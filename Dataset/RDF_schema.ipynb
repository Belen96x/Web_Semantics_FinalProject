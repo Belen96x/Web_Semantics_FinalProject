{
 "cells": [
  {
   "cell_type": "markdown",
   "metadata": {},
   "source": [
    "# Libraries importation"
   ]
  },
  {
   "cell_type": "code",
   "execution_count": 1,
   "metadata": {},
   "outputs": [],
   "source": [
    "import pandas as pd\n",
    "from rdflib import Graph\n",
    "import io\n",
    "import pydotplus\n",
    "from IPython.display import display, Image\n",
    "from rdflib.tools.rdf2dot import rdf2dot"
   ]
  },
  {
   "cell_type": "markdown",
   "metadata": {},
   "source": [
    "# Data importation and Analysis"
   ]
  },
  {
   "cell_type": "code",
   "execution_count": 2,
   "metadata": {},
   "outputs": [],
   "source": [
    "df = pd.read_csv(fr'C:\\Users\\belen\\Desktop\\Université de Lorraine\\Second semester\\Web_semantics_FinalProject\\Web_Semantics_FinalProject\\Dataset\\USA_UFO_sightings.csv')"
   ]
  },
  {
   "cell_type": "markdown",
   "metadata": {},
   "source": [
    "# RDF first Attempt"
   ]
  },
  {
   "cell_type": "code",
   "execution_count": 3,
   "metadata": {},
   "outputs": [],
   "source": [
    "rdfttl = '''\n",
    "@prefix ex: <http://example.org/ufo#> .\n",
    "@prefix xsd: <http://www.w3.org/2001/XMLSchema#> .\n",
    "@prefix rdfs: <http://www.w3.org/2000/01/rdf-schema#> .\n",
    "@prefix rdf: <http://www.w3.org/1999/02/22-rdf-syntax-ns#> .\n",
    "\n",
    "ex:UfoSighting a rdfs:Class ;\n",
    "    rdfs:label \"UFO Sighting\" ;\n",
    "    rdfs:comment \"A record of a UFO sighting.\" .\n",
    "\n",
    "ex:dateTime a rdf:Property ;\n",
    "    rdfs:label \"Date and Time\" ;\n",
    "    rdfs:domain ex:UfoSighting ;\n",
    "    rdfs:range xsd:dateTime ;\n",
    "    rdfs:comment \"The date and time of the UFO sighting.\" .\n",
    "\n",
    "ex:cityArea a rdf:Property ;\n",
    "    rdfs:label \"City or Area\" ;\n",
    "    rdfs:domain ex:UfoSighting ;\n",
    "    rdfs:range xsd:string ;\n",
    "    rdfs:comment \"The city or area where the sighting occurred.\" .\n",
    "\n",
    "ex:state a rdf:Property ;\n",
    "    rdfs:label \"State\" ;\n",
    "    rdfs:domain ex:UfoSighting ;\n",
    "    rdfs:range xsd:string ;\n",
    "    rdfs:comment \"The state where the sighting occurred.\" .\n",
    "\n",
    "ex:country a rdf:Property ;\n",
    "    rdfs:label \"Country\" ;\n",
    "    rdfs:domain ex:UfoSighting ;\n",
    "    rdfs:range xsd:string ;\n",
    "    rdfs:comment \"The country where the sighting occurred.\" .\n",
    "\n",
    "ex:ufoShape a rdf:Property ;\n",
    "    rdfs:label \"UFO Shape\" ;\n",
    "    rdfs:domain ex:UfoSighting ;\n",
    "    rdfs:range xsd:string ;\n",
    "    rdfs:comment \"The shape of the UFO.\" .\n",
    "\n",
    "ex:encounterLength a rdf:Property ;\n",
    "    rdfs:label \"Encounter Length\" ;\n",
    "    rdfs:domain ex:UfoSighting ;\n",
    "    rdfs:range xsd:decimal ;\n",
    "    rdfs:comment \"The length of the encounter in seconds.\" .\n",
    "\n",
    "ex:describedEncounterLength a rdf:Property ;\n",
    "    rdfs:label \"Described Encounter Length\" ;\n",
    "    rdfs:domain ex:UfoSighting ;\n",
    "    rdfs:range xsd:string ;\n",
    "    rdfs:comment \"The described length of the encounter.\" .\n",
    "\n",
    "ex:description a rdf:Property ;\n",
    "    rdfs:label \"Description\" ;\n",
    "    rdfs:domain ex:UfoSighting ;\n",
    "    rdfs:range xsd:string ;\n",
    "    rdfs:comment \"A description of the sighting.\" .\n",
    "\n",
    "ex:dateDocumented a rdf:Property ;\n",
    "    rdfs:label \"Date Documented\" ;\n",
    "    rdfs:domain ex:UfoSighting ;\n",
    "    rdfs:range xsd:date ;\n",
    "    rdfs:comment \"The date when the sighting was documented.\" .\n",
    "\n",
    "ex:latitude a rdf:Property ;\n",
    "    rdfs:label \"Latitude\" ;\n",
    "    rdfs:domain ex:UfoSighting ;\n",
    "    rdfs:range xsd:decimal ;\n",
    "    rdfs:comment \"The latitude of the sighting location.\" .\n",
    "\n",
    "ex:longitude a rdf:Property ;\n",
    "    rdfs:label \"Longitude\" ;\n",
    "    rdfs:domain ex:UfoSighting ;\n",
    "    rdfs:range xsd:decimal ;\n",
    "    rdfs:comment \"The longitude of the sighting location.\" .\n",
    "\n",
    "\n",
    "'''"
   ]
  },
  {
   "cell_type": "code",
   "execution_count": 4,
   "metadata": {},
   "outputs": [
    {
     "ename": "InvocationException",
     "evalue": "GraphViz's executables not found",
     "output_type": "error",
     "traceback": [
      "\u001b[1;31m---------------------------------------------------------------------------\u001b[0m",
      "\u001b[1;31mInvocationException\u001b[0m                       Traceback (most recent call last)",
      "Cell \u001b[1;32mIn[4], line 7\u001b[0m\n\u001b[0;32m      5\u001b[0m rdf2dot(g, stream, opts \u001b[38;5;241m=\u001b[39m {display})\n\u001b[0;32m      6\u001b[0m dg \u001b[38;5;241m=\u001b[39m pydotplus\u001b[38;5;241m.\u001b[39mgraph_from_dot_data(stream\u001b[38;5;241m.\u001b[39mgetvalue())\n\u001b[1;32m----> 7\u001b[0m png \u001b[38;5;241m=\u001b[39m \u001b[43mdg\u001b[49m\u001b[38;5;241;43m.\u001b[39;49m\u001b[43mcreate_png\u001b[49m\u001b[43m(\u001b[49m\u001b[43m)\u001b[49m\n\u001b[0;32m      8\u001b[0m display(Image(png))\n",
      "File \u001b[1;32mc:\\Users\\belen\\anaconda3\\Lib\\site-packages\\pydotplus\\graphviz.py:1797\u001b[0m, in \u001b[0;36mDot.__init__.<locals>.<lambda>\u001b[1;34m(f, prog)\u001b[0m\n\u001b[0;32m   1792\u001b[0m \u001b[38;5;66;03m# Automatically creates all the methods enabling the creation\u001b[39;00m\n\u001b[0;32m   1793\u001b[0m \u001b[38;5;66;03m# of output in any of the supported formats.\u001b[39;00m\n\u001b[0;32m   1794\u001b[0m \u001b[38;5;28;01mfor\u001b[39;00m frmt \u001b[38;5;129;01min\u001b[39;00m \u001b[38;5;28mself\u001b[39m\u001b[38;5;241m.\u001b[39mformats:\n\u001b[0;32m   1795\u001b[0m     \u001b[38;5;28mself\u001b[39m\u001b[38;5;241m.\u001b[39m\u001b[38;5;21m__setattr__\u001b[39m(\n\u001b[0;32m   1796\u001b[0m         \u001b[38;5;124m'\u001b[39m\u001b[38;5;124mcreate_\u001b[39m\u001b[38;5;124m'\u001b[39m \u001b[38;5;241m+\u001b[39m frmt,\n\u001b[1;32m-> 1797\u001b[0m         \u001b[38;5;28;01mlambda\u001b[39;00m f\u001b[38;5;241m=\u001b[39mfrmt, prog\u001b[38;5;241m=\u001b[39m\u001b[38;5;28mself\u001b[39m\u001b[38;5;241m.\u001b[39mprog: \u001b[38;5;28;43mself\u001b[39;49m\u001b[38;5;241;43m.\u001b[39;49m\u001b[43mcreate\u001b[49m\u001b[43m(\u001b[49m\u001b[38;5;28;43mformat\u001b[39;49m\u001b[38;5;241;43m=\u001b[39;49m\u001b[43mf\u001b[49m\u001b[43m,\u001b[49m\u001b[43m \u001b[49m\u001b[43mprog\u001b[49m\u001b[38;5;241;43m=\u001b[39;49m\u001b[43mprog\u001b[49m\u001b[43m)\u001b[49m\n\u001b[0;32m   1798\u001b[0m     )\n\u001b[0;32m   1799\u001b[0m     f \u001b[38;5;241m=\u001b[39m \u001b[38;5;28mself\u001b[39m\u001b[38;5;241m.\u001b[39m\u001b[38;5;18m__dict__\u001b[39m[\u001b[38;5;124m'\u001b[39m\u001b[38;5;124mcreate_\u001b[39m\u001b[38;5;124m'\u001b[39m \u001b[38;5;241m+\u001b[39m frmt]\n\u001b[0;32m   1800\u001b[0m     f\u001b[38;5;241m.\u001b[39m\u001b[38;5;18m__doc__\u001b[39m \u001b[38;5;241m=\u001b[39m (\n\u001b[0;32m   1801\u001b[0m \u001b[38;5;250m        \u001b[39m\u001b[38;5;124;03m'''Refer to the docstring accompanying the'''\u001b[39;00m\n\u001b[0;32m   1802\u001b[0m \u001b[38;5;250m        \u001b[39m\u001b[38;5;124;03m''''create' method for more information.'''\u001b[39;00m\n\u001b[0;32m   1803\u001b[0m     )\n",
      "File \u001b[1;32mc:\\Users\\belen\\anaconda3\\Lib\\site-packages\\pydotplus\\graphviz.py:1959\u001b[0m, in \u001b[0;36mDot.create\u001b[1;34m(self, prog, format)\u001b[0m\n\u001b[0;32m   1957\u001b[0m     \u001b[38;5;28mself\u001b[39m\u001b[38;5;241m.\u001b[39mprogs \u001b[38;5;241m=\u001b[39m find_graphviz()\n\u001b[0;32m   1958\u001b[0m     \u001b[38;5;28;01mif\u001b[39;00m \u001b[38;5;28mself\u001b[39m\u001b[38;5;241m.\u001b[39mprogs \u001b[38;5;129;01mis\u001b[39;00m \u001b[38;5;28;01mNone\u001b[39;00m:\n\u001b[1;32m-> 1959\u001b[0m         \u001b[38;5;28;01mraise\u001b[39;00m InvocationException(\n\u001b[0;32m   1960\u001b[0m             \u001b[38;5;124m'\u001b[39m\u001b[38;5;124mGraphViz\u001b[39m\u001b[38;5;130;01m\\'\u001b[39;00m\u001b[38;5;124ms executables not found\u001b[39m\u001b[38;5;124m'\u001b[39m)\n\u001b[0;32m   1962\u001b[0m \u001b[38;5;28;01mif\u001b[39;00m prog \u001b[38;5;129;01mnot\u001b[39;00m \u001b[38;5;129;01min\u001b[39;00m \u001b[38;5;28mself\u001b[39m\u001b[38;5;241m.\u001b[39mprogs:\n\u001b[0;32m   1963\u001b[0m     \u001b[38;5;28;01mraise\u001b[39;00m InvocationException(\n\u001b[0;32m   1964\u001b[0m         \u001b[38;5;124m'\u001b[39m\u001b[38;5;124mGraphViz\u001b[39m\u001b[38;5;130;01m\\'\u001b[39;00m\u001b[38;5;124ms executable \u001b[39m\u001b[38;5;124m\"\u001b[39m\u001b[38;5;132;01m%s\u001b[39;00m\u001b[38;5;124m\"\u001b[39m\u001b[38;5;124m not found\u001b[39m\u001b[38;5;124m'\u001b[39m \u001b[38;5;241m%\u001b[39m prog)\n",
      "\u001b[1;31mInvocationException\u001b[0m: GraphViz's executables not found"
     ]
    }
   ],
   "source": [
    "g=Graph()\n",
    "g.parse(data=rdfttl, format=\"turtle\")\n",
    "\n",
    "stream = io.StringIO()\n",
    "rdf2dot(g, stream, opts = {display})\n",
    "dg = pydotplus.graph_from_dot_data(stream.getvalue())\n",
    "png = dg.create_png()\n",
    "display(Image(png))"
   ]
  }
 ],
 "metadata": {
  "kernelspec": {
   "display_name": "base",
   "language": "python",
   "name": "python3"
  },
  "language_info": {
   "codemirror_mode": {
    "name": "ipython",
    "version": 3
   },
   "file_extension": ".py",
   "mimetype": "text/x-python",
   "name": "python",
   "nbconvert_exporter": "python",
   "pygments_lexer": "ipython3",
   "version": "3.11.5"
  }
 },
 "nbformat": 4,
 "nbformat_minor": 2
}
